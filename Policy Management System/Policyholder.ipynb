{
 "cells": [
  {
   "cell_type": "code",
   "execution_count": 7,
   "id": "29f97856-fc72-4692-9fe6-58e720062a39",
   "metadata": {},
   "outputs": [],
   "source": [
    "# Policyholder Management\n",
    "\n",
    "class Policyholder:\n",
    "    def _init_(self, policyholder_id, name, email):\n",
    "        self.policyholder_id = policyholder_id\n",
    "        self.name = name\n",
    "        self.email = email\n",
    "        self.active = True\n",
    "\n",
    "    def suspend_policyholder(self):\n",
    "        \"\"\"Suspend the policyholder's account.\"\"\"\n",
    "        self.active = False\n",
    "        print(f\"Policyholder {self.name} has been suspended.\")\n",
    "\n",
    "    def reactivate_policyholder(self):\n",
    "        \"\"\"Reactivate the policyholder's account.\"\"\"\n",
    "        self.active = True\n",
    "        print(f\"Policyholder {self.name} has been reactivated.\")\n",
    "\n",
    "    def get_details(self):\n",
    "        \"\"\"Return policyholder details.\"\"\"\n",
    "        return {\n",
    "            \"ID\": self.policyholder_id,\n",
    "            \"Name\": self.name,\n",
    "            \"Email\": self.email,\n",
    "            \"Active\": self.active\n",
    "        }"
   ]
  },
  {
   "cell_type": "code",
   "execution_count": null,
   "id": "a08f2ccc-5dfa-491c-b33b-7ed674d46a08",
   "metadata": {},
   "outputs": [],
   "source": []
  }
 ],
 "metadata": {
  "kernelspec": {
   "display_name": "Python 3 (ipykernel)",
   "language": "python",
   "name": "python3"
  },
  "language_info": {
   "codemirror_mode": {
    "name": "ipython",
    "version": 3
   },
   "file_extension": ".py",
   "mimetype": "text/x-python",
   "name": "python",
   "nbconvert_exporter": "python",
   "pygments_lexer": "ipython3",
   "version": "3.13.2"
  }
 },
 "nbformat": 4,
 "nbformat_minor": 5
}
