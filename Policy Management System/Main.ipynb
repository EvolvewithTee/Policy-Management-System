{
 "cells": [
  {
   "cell_type": "code",
   "execution_count": 1,
   "id": "52704ca9-5a30-4314-acb1-d303a6c5633e",
   "metadata": {},
   "outputs": [
    {
     "ename": "ModuleNotFoundError",
     "evalue": "No module named 'policyholder'",
     "output_type": "error",
     "traceback": [
      "\u001b[31m---------------------------------------------------------------------------\u001b[39m",
      "\u001b[31mModuleNotFoundError\u001b[39m                       Traceback (most recent call last)",
      "\u001b[36mCell\u001b[39m\u001b[36m \u001b[39m\u001b[32mIn[1]\u001b[39m\u001b[32m, line 3\u001b[39m\n\u001b[32m      1\u001b[39m \u001b[38;5;66;03m# Policyholder Demonstration\u001b[39;00m\n\u001b[32m----> \u001b[39m\u001b[32m3\u001b[39m \u001b[38;5;28;01mfrom\u001b[39;00m\u001b[38;5;250m \u001b[39m\u001b[34;01mpolicyholder\u001b[39;00m\u001b[38;5;250m \u001b[39m\u001b[38;5;28;01mimport\u001b[39;00m Policyholder\n\u001b[32m      4\u001b[39m \u001b[38;5;28;01mfrom\u001b[39;00m\u001b[38;5;250m \u001b[39m\u001b[34;01mproduct\u001b[39;00m\u001b[38;5;250m \u001b[39m\u001b[38;5;28;01mimport\u001b[39;00m Product\n\u001b[32m      5\u001b[39m \u001b[38;5;28;01mfrom\u001b[39;00m\u001b[38;5;250m \u001b[39m\u001b[34;01mpayment\u001b[39;00m\u001b[38;5;250m \u001b[39m\u001b[38;5;28;01mimport\u001b[39;00m Payment\n",
      "\u001b[31mModuleNotFoundError\u001b[39m: No module named 'policyholder'"
     ]
    }
   ],
   "source": [
    "# Policyholder Demonstration\n",
    "\n",
    "from policyholder import Policyholder\n",
    "from product import Product\n",
    "from payment import Payment\n",
    "\n",
    "# Create policyholders\n",
    "policyholder1 = Policyholder(1, \"Alice Johnson\", \"alice@email.com\")\n",
    "policyholder2 = Policyholder(2, \"Bob Smith\", \"bob@email.com\")\n",
    "\n",
    "# Create products\n",
    "product1 = Product(101, \"Health Insurance\", 500)\n",
    "product2 = Product(102, \"Life Insurance\", 800)\n",
    "\n",
    "# Process payments\n",
    "payment1 = Payment(policyholder1, product1, product1.price)\n",
    "payment1.process_payment()\n",
    "\n",
    "payment2 = Payment(policyholder2, product2, product2.price)\n",
    "payment2.process_payment()\n",
    "\n",
    "# Display policyholder details\n",
    "print(policyholder1.get_details())\n",
    "print(policyholder2.get_details())\n",
    "\n",
    "# Suspend and Reactivate a Policyholder\n",
    "policyholder1.suspend_policyholder()\n",
    "print(policyholder1.get_details())\n",
    "\n",
    "policyholder1.reactivate_policyholder()\n",
    "print(policyholder1.get_details())"
   ]
  },
  {
   "cell_type": "code",
   "execution_count": null,
   "id": "593f6b1c-4102-4462-82ea-b1a75e8190d1",
   "metadata": {},
   "outputs": [],
   "source": []
  }
 ],
 "metadata": {
  "kernelspec": {
   "display_name": "Python 3 (ipykernel)",
   "language": "python",
   "name": "python3"
  },
  "language_info": {
   "codemirror_mode": {
    "name": "ipython",
    "version": 3
   },
   "file_extension": ".py",
   "mimetype": "text/x-python",
   "name": "python",
   "nbconvert_exporter": "python",
   "pygments_lexer": "ipython3",
   "version": "3.13.2"
  }
 },
 "nbformat": 4,
 "nbformat_minor": 5
}
