{
 "cells": [
  {
   "cell_type": "code",
   "execution_count": 3,
   "id": "acdef1fe-8699-4ced-8ecd-67679b0e1637",
   "metadata": {},
   "outputs": [],
   "source": [
    "# Payments Management\n",
    "\n",
    "class Payment:\n",
    "    def _init_(self, policyholder, product, amount, status=\"Pending\"):\n",
    "        self.policyholder = policyholder\n",
    "        self.product = product\n",
    "        self.amount = amount\n",
    "        self.status = status\n",
    "\n",
    "    def process_payment(self):\n",
    "        \"\"\"Process the payment and mark it as completed.\"\"\"\n",
    "        self.status = \"Completed\"\n",
    "        print(f\"Payment of {self.amount} for {self.policyholder.name} has been processed.\")\n",
    "\n",
    "    def apply_penalty(self, penalty_amount):\n",
    "        \"\"\"Apply a penalty fee to the payment.\"\"\"\n",
    "        self.amount += penalty_amount\n",
    "        print(f\"A penalty of {penalty_amount} has been added to {self.policyholder.name}'s payment.\")\n",
    "\n",
    "    def get_details(self):\n",
    "        \"\"\"Return payment details.\"\"\"\n",
    "        return {\n",
    "            \"Policyholder\": self.policyholder.name,\n",
    "            \"Product\": self.product.name,\n",
    "            \"Amount\": self.amount,\n",
    "            \"Status\": self.status\n",
    "        }"
   ]
  },
  {
   "cell_type": "code",
   "execution_count": null,
   "id": "0ebb2110-0c2d-4558-966b-d4d28f1930b5",
   "metadata": {},
   "outputs": [],
   "source": []
  }
 ],
 "metadata": {
  "kernelspec": {
   "display_name": "Python 3 (ipykernel)",
   "language": "python",
   "name": "python3"
  },
  "language_info": {
   "codemirror_mode": {
    "name": "ipython",
    "version": 3
   },
   "file_extension": ".py",
   "mimetype": "text/x-python",
   "name": "python",
   "nbconvert_exporter": "python",
   "pygments_lexer": "ipython3",
   "version": "3.13.2"
  }
 },
 "nbformat": 4,
 "nbformat_minor": 5
}
