{
 "cells": [
  {
   "cell_type": "code",
   "execution_count": 3,
   "id": "4712beaf-b151-412e-8df8-091c29dcc041",
   "metadata": {},
   "outputs": [],
   "source": [
    "# Products Management\n",
    "\n",
    "class Product:\n",
    "    def _init_(self, product_id, name, price):\n",
    "        self.product_id = product_id\n",
    "        self.name = name\n",
    "        self.price = price\n",
    "\n",
    "    def update_product(self, name=None, price=None):\n",
    "        \"\"\"Update product details.\"\"\"\n",
    "        if name:\n",
    "            self.name = name\n",
    "        if price:\n",
    "            self.price = price\n",
    "        print(f\"Product {self.product_id} has been updated.\")\n",
    "\n",
    "    def get_details(self):\n",
    "        \"\"\"Return product details.\"\"\"\n",
    "        return {\n",
    "            \"ID\": self.product_id,\n",
    "            \"Name\": self.name,\n",
    "            \"Price\": self.price\n",
    "        }"
   ]
  },
  {
   "cell_type": "code",
   "execution_count": null,
   "id": "4a0d96f5-74f8-4e4a-8fbe-9a4c6bc98611",
   "metadata": {},
   "outputs": [],
   "source": []
  }
 ],
 "metadata": {
  "kernelspec": {
   "display_name": "Python 3 (ipykernel)",
   "language": "python",
   "name": "python3"
  },
  "language_info": {
   "codemirror_mode": {
    "name": "ipython",
    "version": 3
   },
   "file_extension": ".py",
   "mimetype": "text/x-python",
   "name": "python",
   "nbconvert_exporter": "python",
   "pygments_lexer": "ipython3",
   "version": "3.13.2"
  }
 },
 "nbformat": 4,
 "nbformat_minor": 5
}
